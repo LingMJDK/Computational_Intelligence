{
 "cells": [
  {
   "cell_type": "markdown",
   "id": "4366e4b1",
   "metadata": {
    "id": "4366e4b1"
   },
   "source": [
    "# Assignment 5: Neuroevolution\n",
    "\n",
    "**Goal**: Implement an Evolutionary Algorithm to optimize an Artificial Neural Network (ANN) based controller for the CartPole task in OpenAI Gym environment.\n",
    "\n",
    "CartPole evaluation environment functions are provided. Your goal is to implement your ANN to control the cartpole and use your Evolutionary Algorithm to optimize the ANN parameters (weights).\n",
    "\n",
    "Please answer the `Questions` and implement coding `Tasks` by filling **PLEASE FILL IN** sections. *Documentation* of your code is also important. You can find the grading scheme in implementation cells.\n",
    "\n",
    "  * Plagiarism is automatically checked and set to **0 points**\n",
    "\n",
    "  * It is allowed to learn from external resources but copying is not allowed. If you use any external resource, please cite them in the comments (e.g. `# source: https://...../` (see `fitness_function`))"
   ]
  },
  {
   "cell_type": "markdown",
   "id": "36de6798",
   "metadata": {
    "id": "36de6798"
   },
   "source": [
    "**Install Prerequisites**"
   ]
  },
  {
   "cell_type": "code",
   "execution_count": 1,
   "id": "e553c575",
   "metadata": {
    "colab": {
     "base_uri": "https://localhost:8080/"
    },
    "id": "e553c575",
    "outputId": "db1c1292-12b8-4a0d-ca14-3cb74a73e3ed"
   },
   "outputs": [
    {
     "name": "stdout",
     "output_type": "stream",
     "text": [
      "Requirement already satisfied: numpy in /usr/local/lib/python3.10/dist-packages (1.25.2)\n",
      "Requirement already satisfied: matplotlib in /usr/local/lib/python3.10/dist-packages (3.7.1)\n",
      "Requirement already satisfied: scipy in /usr/local/lib/python3.10/dist-packages (1.11.4)\n",
      "Requirement already satisfied: torch in /usr/local/lib/python3.10/dist-packages (2.2.1+cu121)\n",
      "Requirement already satisfied: contourpy>=1.0.1 in /usr/local/lib/python3.10/dist-packages (from matplotlib) (1.2.1)\n",
      "Requirement already satisfied: cycler>=0.10 in /usr/local/lib/python3.10/dist-packages (from matplotlib) (0.12.1)\n",
      "Requirement already satisfied: fonttools>=4.22.0 in /usr/local/lib/python3.10/dist-packages (from matplotlib) (4.51.0)\n",
      "Requirement already satisfied: kiwisolver>=1.0.1 in /usr/local/lib/python3.10/dist-packages (from matplotlib) (1.4.5)\n",
      "Requirement already satisfied: packaging>=20.0 in /usr/local/lib/python3.10/dist-packages (from matplotlib) (24.0)\n",
      "Requirement already satisfied: pillow>=6.2.0 in /usr/local/lib/python3.10/dist-packages (from matplotlib) (9.4.0)\n",
      "Requirement already satisfied: pyparsing>=2.3.1 in /usr/local/lib/python3.10/dist-packages (from matplotlib) (3.1.2)\n",
      "Requirement already satisfied: python-dateutil>=2.7 in /usr/local/lib/python3.10/dist-packages (from matplotlib) (2.8.2)\n",
      "Requirement already satisfied: filelock in /usr/local/lib/python3.10/dist-packages (from torch) (3.14.0)\n",
      "Requirement already satisfied: typing-extensions>=4.8.0 in /usr/local/lib/python3.10/dist-packages (from torch) (4.11.0)\n",
      "Requirement already satisfied: sympy in /usr/local/lib/python3.10/dist-packages (from torch) (1.12)\n",
      "Requirement already satisfied: networkx in /usr/local/lib/python3.10/dist-packages (from torch) (3.3)\n",
      "Requirement already satisfied: jinja2 in /usr/local/lib/python3.10/dist-packages (from torch) (3.1.4)\n",
      "Requirement already satisfied: fsspec in /usr/local/lib/python3.10/dist-packages (from torch) (2023.6.0)\n",
      "Collecting nvidia-cuda-nvrtc-cu12==12.1.105 (from torch)\n",
      "  Using cached nvidia_cuda_nvrtc_cu12-12.1.105-py3-none-manylinux1_x86_64.whl (23.7 MB)\n",
      "Collecting nvidia-cuda-runtime-cu12==12.1.105 (from torch)\n",
      "  Using cached nvidia_cuda_runtime_cu12-12.1.105-py3-none-manylinux1_x86_64.whl (823 kB)\n",
      "Collecting nvidia-cuda-cupti-cu12==12.1.105 (from torch)\n",
      "  Using cached nvidia_cuda_cupti_cu12-12.1.105-py3-none-manylinux1_x86_64.whl (14.1 MB)\n",
      "Collecting nvidia-cudnn-cu12==8.9.2.26 (from torch)\n",
      "  Using cached nvidia_cudnn_cu12-8.9.2.26-py3-none-manylinux1_x86_64.whl (731.7 MB)\n",
      "Collecting nvidia-cublas-cu12==12.1.3.1 (from torch)\n",
      "  Using cached nvidia_cublas_cu12-12.1.3.1-py3-none-manylinux1_x86_64.whl (410.6 MB)\n",
      "Collecting nvidia-cufft-cu12==11.0.2.54 (from torch)\n",
      "  Using cached nvidia_cufft_cu12-11.0.2.54-py3-none-manylinux1_x86_64.whl (121.6 MB)\n",
      "Collecting nvidia-curand-cu12==10.3.2.106 (from torch)\n",
      "  Using cached nvidia_curand_cu12-10.3.2.106-py3-none-manylinux1_x86_64.whl (56.5 MB)\n",
      "Collecting nvidia-cusolver-cu12==11.4.5.107 (from torch)\n",
      "  Using cached nvidia_cusolver_cu12-11.4.5.107-py3-none-manylinux1_x86_64.whl (124.2 MB)\n",
      "Collecting nvidia-cusparse-cu12==12.1.0.106 (from torch)\n",
      "  Using cached nvidia_cusparse_cu12-12.1.0.106-py3-none-manylinux1_x86_64.whl (196.0 MB)\n",
      "Collecting nvidia-nccl-cu12==2.19.3 (from torch)\n",
      "  Using cached nvidia_nccl_cu12-2.19.3-py3-none-manylinux1_x86_64.whl (166.0 MB)\n",
      "Collecting nvidia-nvtx-cu12==12.1.105 (from torch)\n",
      "  Using cached nvidia_nvtx_cu12-12.1.105-py3-none-manylinux1_x86_64.whl (99 kB)\n",
      "Requirement already satisfied: triton==2.2.0 in /usr/local/lib/python3.10/dist-packages (from torch) (2.2.0)\n",
      "Collecting nvidia-nvjitlink-cu12 (from nvidia-cusolver-cu12==11.4.5.107->torch)\n",
      "  Using cached nvidia_nvjitlink_cu12-12.4.127-py3-none-manylinux2014_x86_64.whl (21.1 MB)\n",
      "Requirement already satisfied: six>=1.5 in /usr/local/lib/python3.10/dist-packages (from python-dateutil>=2.7->matplotlib) (1.16.0)\n",
      "Requirement already satisfied: MarkupSafe>=2.0 in /usr/local/lib/python3.10/dist-packages (from jinja2->torch) (2.1.5)\n",
      "Requirement already satisfied: mpmath>=0.19 in /usr/local/lib/python3.10/dist-packages (from sympy->torch) (1.3.0)\n",
      "Installing collected packages: nvidia-nvtx-cu12, nvidia-nvjitlink-cu12, nvidia-nccl-cu12, nvidia-curand-cu12, nvidia-cufft-cu12, nvidia-cuda-runtime-cu12, nvidia-cuda-nvrtc-cu12, nvidia-cuda-cupti-cu12, nvidia-cublas-cu12, nvidia-cusparse-cu12, nvidia-cudnn-cu12, nvidia-cusolver-cu12\n",
      "Successfully installed nvidia-cublas-cu12-12.1.3.1 nvidia-cuda-cupti-cu12-12.1.105 nvidia-cuda-nvrtc-cu12-12.1.105 nvidia-cuda-runtime-cu12-12.1.105 nvidia-cudnn-cu12-8.9.2.26 nvidia-cufft-cu12-11.0.2.54 nvidia-curand-cu12-10.3.2.106 nvidia-cusolver-cu12-11.4.5.107 nvidia-cusparse-cu12-12.1.0.106 nvidia-nccl-cu12-2.19.3 nvidia-nvjitlink-cu12-12.4.127 nvidia-nvtx-cu12-12.1.105\n"
     ]
    }
   ],
   "source": [
    "# Run this cell to install the required libraries\n",
    "%pip install numpy matplotlib scipy torch\n"
   ]
  },
  {
   "cell_type": "markdown",
   "id": "e2150ce2",
   "metadata": {
    "id": "e2150ce2"
   },
   "source": [
    "**Imports**"
   ]
  },
  {
   "cell_type": "code",
   "execution_count": 4,
   "id": "4c4c8007",
   "metadata": {
    "id": "4c4c8007"
   },
   "outputs": [],
   "source": [
    "# Necessary libraries\n",
    "import matplotlib.pyplot as plt\n",
    "import numpy as np\n",
    "import torch\n",
    "import torch.nn as nn\n",
    "import torch.nn.functional as F\n",
    "from typing import Tuple, List, Dict, Callable\n",
    "import random\n",
    "import math\n"
   ]
  },
  {
   "cell_type": "code",
   "execution_count": 5,
   "id": "ade95dd9",
   "metadata": {
    "id": "ade95dd9"
   },
   "outputs": [],
   "source": [
    "# Enables inline matplotib graphs\n",
    "%matplotlib inline\n",
    "\n",
    "# Comment the line above and uncomment the lines below to have interactive plots\n",
    "# WARN: may cause dependency issues\n",
    "# %matplotlib qt5\n",
    "# %pip install PyQt5\n",
    "# plt.ion()"
   ]
  },
  {
   "cell_type": "code",
   "execution_count": 6,
   "id": "b90d39c6",
   "metadata": {
    "colab": {
     "base_uri": "https://localhost:8080/"
    },
    "id": "b90d39c6",
    "outputId": "5cafd295-d6ef-49fd-f23c-6db9a214debc"
   },
   "outputs": [
    {
     "name": "stdout",
     "output_type": "stream",
     "text": [
      "Collecting gymnasium\n",
      "  Downloading gymnasium-0.29.1-py3-none-any.whl (953 kB)\n",
      "\u001b[?25l     \u001b[90m━━━━━━━━━━━━━━━━━━━━━━━━━━━━━━━━━━━━━━━━\u001b[0m \u001b[32m0.0/953.9 kB\u001b[0m \u001b[31m?\u001b[0m eta \u001b[36m-:--:--\u001b[0m\r",
      "\u001b[2K     \u001b[91m━━━━━━━━\u001b[0m\u001b[91m╸\u001b[0m\u001b[90m━━━━━━━━━━━━━━━━━━━━━━━━━━━━━━━\u001b[0m \u001b[32m204.8/953.9 kB\u001b[0m \u001b[31m5.9 MB/s\u001b[0m eta \u001b[36m0:00:01\u001b[0m\r",
      "\u001b[2K     \u001b[91m━━━━━━━━━━━━━━━━━━━━━━━━━━━━\u001b[0m\u001b[91m╸\u001b[0m\u001b[90m━━━━━━━━━━━\u001b[0m \u001b[32m686.1/953.9 kB\u001b[0m \u001b[31m9.9 MB/s\u001b[0m eta \u001b[36m0:00:01\u001b[0m\r",
      "\u001b[2K     \u001b[90m━━━━━━━━━━━━━━━━━━━━━━━━━━━━━━━━━━━━━━━━\u001b[0m \u001b[32m953.9/953.9 kB\u001b[0m \u001b[31m9.3 MB/s\u001b[0m eta \u001b[36m0:00:00\u001b[0m\n",
      "\u001b[?25hRequirement already satisfied: numpy>=1.21.0 in /usr/local/lib/python3.10/dist-packages (from gymnasium) (1.25.2)\n",
      "Requirement already satisfied: cloudpickle>=1.2.0 in /usr/local/lib/python3.10/dist-packages (from gymnasium) (2.2.1)\n",
      "Requirement already satisfied: typing-extensions>=4.3.0 in /usr/local/lib/python3.10/dist-packages (from gymnasium) (4.11.0)\n",
      "Collecting farama-notifications>=0.0.1 (from gymnasium)\n",
      "  Downloading Farama_Notifications-0.0.4-py3-none-any.whl (2.5 kB)\n",
      "Installing collected packages: farama-notifications, gymnasium\n",
      "Successfully installed farama-notifications-0.0.4 gymnasium-0.29.1\n"
     ]
    }
   ],
   "source": [
    "%pip install gymnasium\n",
    "import gymnasium as gym"
   ]
  },
  {
   "cell_type": "markdown",
   "id": "9d95fca1",
   "metadata": {
    "id": "9d95fca1"
   },
   "source": [
    "---\n",
    "**Question 1 (0-0.25-0.5 pt):** Following link provides more information about the CartPole environemnt we would like to find an ANN to control: https://www.gymlibrary.dev/environments/classic_control/cart_pole/\n",
    "\n",
    "Please have a look at the link and note the observation and action spaces, how many dimensions they have? Are they continous or discrete, and what kinds of value they can get?\n",
    "\n",
    "**Answer:**  <br>\n",
    "**Observation space:**\n",
    "* dims = 4\n",
    "* continuous\n",
    "* values:\n",
    "  * Cart position: Min = -4,8, Max = 4,8\n",
    "  * Cart velocity: Min = -inf, Max = inf\n",
    "  * Pole angle: Min = -0.418 rad (-24°), Max = 0.418 rad (24°)\n",
    "  * Pole angular velocity: -Min = -inf, Max = inf\n",
    "  \n",
    "**action space:**\n",
    "* dims = 1\n",
    "* discrete\n",
    "* values:\n",
    "  * Direction of force (left/right): 0 or 1"
   ]
  },
  {
   "cell_type": "markdown",
   "id": "eb5c264e",
   "metadata": {
    "id": "eb5c264e"
   },
   "source": [
    "---\n",
    "**Question 2 (0-0.25-0.5 pt):** What is your proposed ANN architecture and why? Please also discuss the activation functions you choose.\n",
    "\n",
    "**Answer:** I used the following architecture:\n",
    "* **Input layer of size 4** to match the four input variables cart position, cart velocity, pole angle and pole velocity.\n",
    "* **Hidden layer of size 6 with ReLU activation** to enhance the learning capacity without overfitting. The ReLU is chosen to introduce non-linearity and for computational efficiency.\n",
    "* **output layer of size 2** to account for two possible actions (left or right).\n",
    "\n"
   ]
  },
  {
   "cell_type": "markdown",
   "id": "0737934f",
   "metadata": {
    "id": "0737934f"
   },
   "source": [
    "---\n",
    "**Task 1: Implementation of Evolutionary Algrotihm (0-1.6-3.8-4.2-5 pt):** Implement your evolutionary algorithm to find an ANN controller for the CartPole task."
   ]
  },
  {
   "cell_type": "code",
   "execution_count": 7,
   "id": "e3b15abf",
   "metadata": {
    "id": "e3b15abf"
   },
   "outputs": [],
   "source": [
    "#################################\n",
    "# Grading\n",
    "# 0 pts if the code does not work, code works but it is fundamentally incorrect\n",
    "# 1.6 pts if the code works but some functions are incorrect and it is badly explained\n",
    "# 3.8 pts if the code works but some functions are incorrect but it is explained well\n",
    "# 4.2 pts if the code works very well aligned with the task without any mistakes, but it is badly explained\n",
    "# 5 pts if the code works very well aligned with the task without any mistakes, and it is well explained\n",
    "################################################################\n",
    "\n",
    "\n",
    "# Artificial Neural Network parameters (weights)\n",
    "# See here: https://www.gymlibrary.dev/environments/classic_control/cart_pole/ for input and output space\n",
    "# PLEASE SPECIFY BELOW\n",
    "inp = 4 # Number of input neurons\n",
    "hid = 6 # Number of hidden neurons\n",
    "out = 2 # Nubmer of output neurons\n",
    "###################\n",
    "\n",
    "\n",
    "\n",
    "#Open AI gym environment\n",
    "env = gym.make(\"CartPole-v1\")\n",
    "\n",
    "class ANN(nn.Module):\n",
    "  def __init__(self, input_size, hidden_size, output_size):\n",
    "    super(ANN, self).__init__()\n",
    "    self.layer1 = nn.Linear(input_size, hidden_size) # Input layer\n",
    "    self.layer2 = nn.Linear(hidden_size, output_size) # Hidden layer\n",
    "    self.activation = nn.ReLU() # Activation function hidden layer\n",
    "\n",
    "  def forward(self, input):\n",
    "    # forward pass through ANN\n",
    "    x = self.activation(self.layer1(input))\n",
    "    action_prob = self.layer2(x)\n",
    "    return action_prob\n",
    "\n",
    "  def set_weights(self, individual):\n",
    "    start = 0 # start index for slicing\n",
    "\n",
    "    # Set weights for layer1\n",
    "    # Count layer weights and add to start to calculate end index\n",
    "    end = start + self.layer1.weight.numel()\n",
    "    # Extract the weights from the individual and reshape match the size of the weights of layer 1\n",
    "    layer1_weights = individual[start:end].reshape(self.layer1.weight.size())\n",
    "    # Assign the reshaped weights to the weight data of layer1.\n",
    "    self.layer1.weight.data = torch.tensor(layer1_weights, dtype=torch.float32)\n",
    "\n",
    "    # Repeat steps for bias and other layers\n",
    "    # Set bias for layer 1\n",
    "    start = end\n",
    "    end = start + self.layer1.bias.numel()\n",
    "    layer1_bias = individual[start:end].reshape(self.layer1.bias.size())\n",
    "    self.layer1.bias.data = torch.tensor(layer1_bias, dtype=torch.float32)\n",
    "\n",
    "    # Set weights for layer2\n",
    "    start = end\n",
    "    end = start + self.layer2.weight.numel()\n",
    "    layer2_weights = individual[start:end].reshape(self.layer2.weight.size())\n",
    "    self.layer2.weight.data = torch.tensor(layer2_weights, dtype=torch.float32)\n",
    "\n",
    "    # Set bias for layer2\n",
    "    start = end\n",
    "    end = start + self.layer2.bias.numel()\n",
    "    layer2_bias = individual[start:end].reshape(self.layer2.bias.size())\n",
    "    self.layer2.bias.data = torch.tensor(layer2_bias, dtype=torch.float32)\n",
    "\n",
    "\n",
    "# CartPole evaluation function\n",
    "def cartpole(x):\n",
    "\n",
    "    ###########\n",
    "    # PLEASE FILL IN\n",
    "    # Hint: x is an individual in evolutionary algorithms and needs to map to the connection weights of ANNs\n",
    "    model = ANN(4,6,2)\n",
    "    model.set_weights(x)\n",
    "    #########\n",
    "\n",
    "    # Reset environment\n",
    "    observation, info = env.reset(seed = 0)\n",
    "\n",
    "    rew = 0 # Initial reward\n",
    "    step = 0; #step counter\n",
    "    done = False\n",
    "    maxStep = 1000  # maximum number of steps\n",
    "    while not done:\n",
    "\n",
    "      ###################\n",
    "      # PLEASE FILL IN\n",
    "      # Hint: Provide input to ANN and find the output to be the action\n",
    "      input = torch.tensor(observation, dtype=torch.float32)\n",
    "      action_prob = model.forward(input)\n",
    "      action = torch.argmax(action_prob).item()\n",
    "      # print(action)\n",
    "      # action should be provided based on the output of the artifial neural network\n",
    "      observation, reward, done, tr, info = env.step(action)\n",
    "      step+=1 # step counter\n",
    "      rew = rew + reward # after each step increment reward\n",
    "      if rew > maxStep:\n",
    "        done = True\n",
    "      # print(action)\n",
    "      # print(rew)\n",
    "\n",
    "    env.close()\n",
    "    return np.minimum(maxStep, rew) # return the reward or maxStep (if maxStep < 1000, this means that pole fell)\n",
    "\n",
    "\n",
    "\n",
    "# CartPole evaluation function with video recording\n",
    "def cartpole_record_video(x):\n",
    "    tmp_env = gym.make(\"CartPole-v1\", render_mode=\"rgb_array\")\n",
    "\n",
    "    # Video recording function - be sure to check the folder path - you should see the video here:content/video/cartpole\n",
    "    env = gym.wrappers.RecordVideo(env=tmp_env, video_folder=\"content/video/cartpole\", name_prefix=\"cartpole\")\n",
    "\n",
    "    ###########\n",
    "    # PLEASE FILL IN\n",
    "    # Hint: x is an individual in evolutionary algorithms and needs to map to the connection weights of ANNs\n",
    "    model = ANN(4,6,2)\n",
    "    model.set_weights(x)\n",
    "    #########\n",
    "\n",
    "\n",
    "    # Reset environment\n",
    "    observation, info = env.reset(seed = 0)\n",
    "\n",
    "    env.start_video_recorder()\n",
    "\n",
    "\n",
    "    rew = 0 # Initial reward\n",
    "    step = 0; #step counter\n",
    "    done = False\n",
    "    maxStep = 1000  # maximum number of steps\n",
    "    while not done: # run nStep number of time\n",
    "\n",
    "      ###################\n",
    "      # PLEASE FILL IN\n",
    "      # Hint: Provide input to ANN and find the output to be the action\n",
    "\n",
    "      input = torch.tensor(observation, dtype=torch.float32)\n",
    "      action_prob = model.forward(input)\n",
    "      action = torch.argmax(action_prob).item()\n",
    "\n",
    "\n",
    "\n",
    "      # action should be provided based on the output of the artifial neural network\n",
    "      observation, reward, done, tr, info = env.step(action)\n",
    "      step+=1 # step counter\n",
    "      rew = rew + reward # after each step increment reward\n",
    "      env.render()\n",
    "      if rew > maxStep:\n",
    "        done = True\n",
    "    env.close_video_recorder()\n",
    "    env.close()\n",
    "    return np.minimum(maxStep, rew) # return the reward or maxStep (if maxStep < 1000, this means that pole fell)\n",
    "\n",
    "\n",
    "\n",
    "\n",
    "# Implement your Evolutionary Algorithm to find the ANN weigths that can balance the CartPole\n",
    "# Feel free to add any functions, such as initialization, crossover, etc.. to make it work!\n",
    "\n",
    "#Initialize a population randomly based on the population size and dimensions\n",
    "def initialization(population_size, input_size, hidden_size, output_size) -> np.ndarray:\n",
    "    \"\"\"\n",
    "    Initialize the starting population with random individuals.\n",
    "    Each gene of an individual corresponds to a point on a dimension in the function\n",
    "    \"\"\"\n",
    "    num_weights = (input_size + 1) * hidden_size + (hidden_size + 1) * output_size\n",
    "\n",
    "    ################################################################\n",
    "    # Generates 2d numpy array where the population size equals the number\n",
    "    # of rows and the number of weights equals the number of columns\n",
    "    x = np.random.uniform(low=-1.0, high=1.0, size=(population_size, num_weights))\n",
    "\n",
    "\n",
    "    ################################################################\n",
    "\n",
    "    return x # return population\n",
    "\n",
    "def evaluation(x: np.ndarray, objective_function: Callable[[np.ndarray], float]) -> np.ndarray:\n",
    "    \"\"\"Evaluate the fitness of the population members\"\"\"\n",
    "\n",
    "    ################################################################\n",
    "    fitness:List[float] = [] # empty list\n",
    "    # Loops through the population and calculates the objective function for\n",
    "    # each individual.\n",
    "    for individual in x:\n",
    "      fitness_ind: float = objective_function(individual)\n",
    "      fitness.append(fitness_ind)\n",
    "\n",
    "    ################################################################\n",
    "    return np.array(fitness) # returns the list as a numpy array\n",
    "\n",
    "# Implement the crossover operator by choosing a suitable method. For inspiration, take a look at the lecture slides\n",
    "def crossover(x_parents: np.ndarray, p_crossover: float) -> np.ndarray:\n",
    "    \"\"\"Perform crossover to create offsprings.\n",
    "    Params:\n",
    "      \"\"\"\n",
    "    ################################################################\n",
    "\n",
    "    # Create an offpring array\n",
    "    offspring:List[float] = []\n",
    "\n",
    "    # generate a probability for every parent pair\n",
    "    for i in range(0,len(x_parents), 2):\n",
    "      parent1: np.ndarray = x_parents[i]\n",
    "      parent2: np.ndarray = x_parents[i+1]\n",
    "\n",
    "      rand_float: float = random.random()\n",
    "\n",
    "      # if the probability is lower than p_crossover, crossover will commence\n",
    "      # else, the parents will be added to the offspring array\n",
    "      if rand_float < p_crossover:\n",
    "        # print('Crossover initiated')\n",
    "\n",
    "        # Sets the max index for the crossover point\n",
    "        max_cross_point: int = len(x_parents[i])- 1\n",
    "        # Stochastically determine the crossover point\n",
    "        cross_point: int = random.randint(1,max_cross_point)\n",
    "\n",
    "        # seed = random.seed(2)\n",
    "\n",
    "        # swap the values in the parents' array based on the crossover point\n",
    "        # to create two children.\n",
    "        child1:np.ndarray = np.concatenate((parent1[:cross_point], parent2[cross_point:]), axis = 0)\n",
    "        child2:np.ndarray = np.concatenate((parent2[:cross_point], parent1[cross_point:]), axis = 0)\n",
    "        # print('Child 1: ',child1)\n",
    "        # print('Child 2: ',child2)\n",
    "\n",
    "        # Add the children to the offspring array\n",
    "        offspring.append(child1)\n",
    "        offspring.append(child2)\n",
    "      else:\n",
    "        # print('Crossover denied')\n",
    "        offspring.append(parent1)\n",
    "        offspring.append(parent2)\n",
    "\n",
    "    offspring:np.ndarray = np.array(offspring)\n",
    "    ################################################################\n",
    "\n",
    "    return offspring\n",
    "\n",
    "\n",
    "# Implement the crossover operator by choosing a suitable method. For inspiration, take a look at the lecture slides\n",
    "def mutation(x, mutation_rate):\n",
    "    \"\"\"Apply mutation to an individual.\"\"\"\n",
    "\n",
    "    ################################################################\n",
    "\n",
    "    # loops over every individual in the population\n",
    "    x = x.copy()\n",
    "\n",
    "    for individual in x:\n",
    "          # loop over each value in the individual\n",
    "          for idx, value in enumerate(individual):\n",
    "            # calculate a random probability\n",
    "            probability = random.random()\n",
    "\n",
    "            # print(probability)\n",
    "            # print(mutation_rate)\n",
    "            # print(individual)\n",
    "            # if the probability is lower than the mutation_rate, add gaussian noise\n",
    "            if probability < mutation_rate:\n",
    "              value = np.random.normal(value, 0.01)\n",
    "            # make sure the value remains within th the domain\n",
    "            value = np.clip(value, -1, 1)\n",
    "            individual[idx] = value\n",
    "\n",
    "\n",
    "\n",
    "    ################################################################\n",
    "\n",
    "    return x\n",
    "\n",
    "\n",
    "def parent_selection(x: np.ndarray, f: np.ndarray) -> Tuple[np.ndarray, np.ndarray]:\n",
    "    \"\"\"Select parents for the next generation\n",
    "    Params:\n",
    "      x: A 2d np array where each row represents an individual from the current population.\n",
    "      f: A 2d np array representing the fitness of each individual in the population\n",
    "    Returns:\n",
    "      x_parents: A 2d np array where each row represents a parent.\n",
    "      f_parents: A 2d np array where each row represents the fitness of a parent.\"\"\"\n",
    "    ################################################################\n",
    "\n",
    "    sum_fitness: float = np.sum(f) # The sum of the fitness values\n",
    "    select_prob: float = 1 - (f / sum_fitness) # The probabilities associated with each entry in x.\n",
    "    norm_select_prob = select_prob / np.sum(select_prob) # normalized selection probabilities\n",
    "\n",
    "    num_parents: int = len(x) # The number of parents that will be generated.\n",
    "\n",
    "    x_parents:List[float] = []\n",
    "    f_parents:List[float] = []\n",
    "    # Choose parents based on selection probabilities using roulette wheel selection\n",
    "    # This line creates a 1d array of indices that match the indices of the individuals in x.\n",
    "    # The loop repeats for every parent pair, replace is said to false to avoid parents mating with themselves.\n",
    "    for i in range(0, len(x), 2):\n",
    "      ind_idx_array: np.ndarray = np.random.choice(a = len(x), size=num_parents, p=norm_select_prob, replace = False) # 1d array\n",
    "      # print(ind_idx_array)\n",
    "      # Select parents based on the indices produced by the roulette wheel\n",
    "      parent1 = list(x[ind_idx_array][0])\n",
    "      parent2 = list(x[ind_idx_array][1])\n",
    "\n",
    "      fitness1 = f[ind_idx_array][0]\n",
    "      fitness2 = f[ind_idx_array][1]\n",
    "\n",
    "      x_parents.append(parent1)\n",
    "      x_parents.append(parent2)\n",
    "\n",
    "      f_parents.append(fitness1)\n",
    "      f_parents.append(fitness2)\n",
    "\n",
    "\n",
    "    ####################################\n",
    "    return np.array(x_parents) , np.array(f_parents)\n",
    "\n",
    "\n",
    "def survivor_selection(x, f, x_offspring, f_offspring):\n",
    "    \"\"\"Select the survivors, for the population of the next generation\"\"\"\n",
    "\n",
    "\n",
    "    ################################################################\n",
    "    # create a tuple containing a fitness-indivual pair for the current population\n",
    "    # append them to the list\n",
    "    fit_ind_tuple = []\n",
    "    for i,j in zip(f, x):\n",
    "      fit_ind_tuple.append((i,list(j)))\n",
    "\n",
    "    # create a tuple containing a fitness-indivual pair for the offspring population\n",
    "    # append them to the list\n",
    "    for i,j in zip(f_offspring, x_offspring):\n",
    "      fit_ind_tuple.append((i,list(j)))\n",
    "\n",
    "    # sort the tuples based on the fitness\n",
    "    fit_ind_tuple = sorted(fit_ind_tuple, reverse = True, key=lambda x: x[0]).copy()\n",
    "    unique_individuals = []\n",
    "\n",
    "    # Filter unique indiviuals\n",
    "    for i in fit_ind_tuple:\n",
    "      if i not in unique_individuals:\n",
    "        unique_individuals.append(i)\n",
    "\n",
    "    # Add the best individuals to the top_contenders list\n",
    "    top_contenders = unique_individuals[0:len(x)]\n",
    "    # Extract the individuals and convert to numpy array\n",
    "    x = np.array([i[1] for i in top_contenders])\n",
    "    # Extract fitness and convert to numpy array\n",
    "    f = np.array([i[0] for i in top_contenders])\n",
    "\n",
    "    ################################################################\n",
    "\n",
    "    return x, f\n",
    "\n",
    "\n",
    "# def ea(\n",
    "#     # hyperparameters of the algorithm\n",
    "#     population_size,\n",
    "#     max_fit_evals,  # Maximum number of evaluations\n",
    "#     p_crossover,  # Probability of performing crossover operator\n",
    "#     m_rate,  # mutation rate\n",
    "#     objective_function  # objective function to be minimized\n",
    "# ):\n",
    "#     # Calculate the maximum number of generations\n",
    "#     # Maximum number of function evaluations should be the same independent of the population size\n",
    "#     max_generations = int(max_fit_evals / population_size)  # DO NOT CHANGE\n",
    "\n",
    "\n",
    "\n",
    "#     ################################################################\n",
    "#     # Initialize and evaluate the current population\n",
    "#     x = initialization(population_size, input_size = 4, hidden_size=6, output_size=2)\n",
    "#     f = evaluation(x, objective_function)\n",
    "\n",
    "\n",
    "#     ################################################################\n",
    "\n",
    "#     # Find the best individual and append to a list to keep track in each generation\n",
    "#     idx = np.argmin(f)\n",
    "#     x_best = [x[idx]]\n",
    "#     f_best = [f[idx]]\n",
    "\n",
    "#     generation = 0\n",
    "#     # Loop over the generations\n",
    "#     for _ in range(max_generations - 1):\n",
    "#         print(f'generation: {generation}')\n",
    "#         # Perform the EA steps\n",
    "#         ################################################################\n",
    "#         # Select parents\n",
    "#         x_parents, f_parents = parent_selection(x, f)\n",
    "#         # Perform crossover to create offspring\n",
    "#         x_offspring = crossover(x_parents, p_crossover)\n",
    "#         # Apply mutation to offspring\n",
    "#         x_offspring_mutated = mutation(x_offspring, m_rate)\n",
    "#         # Select next generation\n",
    "#         x, f = survivor_selection(x, f, x_offspring_mutated, evaluation(x_offspring_mutated, objective_function))\n",
    "#         generation+=1\n",
    "\n",
    "\n",
    "#         ################################################################\n",
    "\n",
    "\n",
    "#         idx = np.argmax(f)\n",
    "#         xi_best = x[idx]\n",
    "#         fi_best = f[idx]\n",
    "#         if fi_best > f_best[-1]:\n",
    "#             x_best.append(xi_best)\n",
    "#             f_best.append(fi_best)\n",
    "#         else:\n",
    "#             x_best.append(x_best[-1])\n",
    "#             f_best.append(f_best[-1])\n",
    "\n",
    "#         # Append the best individual to the list\n",
    "#         f_best.append(fi_best)\n",
    "#         x_best.append(xi_best)\n",
    "#     return x_best, f_best\n",
    "def ea(\n",
    "    population_size,\n",
    "    max_fit_evals,  # Maximum number of evaluations\n",
    "    p_crossover,  # Probability of performing crossover operator\n",
    "    m_rate,  # mutation rate\n",
    "    objective_function  # objective function to be maximized\n",
    "):\n",
    "    # Calculate the maximum number of generations\n",
    "    max_generations = int(max_fit_evals / population_size)  # DO NOT CHANGE\n",
    "\n",
    "    ################################################################\n",
    "    # Initialize and evaluate the current population\n",
    "    x = initialization(population_size, input_size=4, hidden_size=6, output_size=2)\n",
    "    f = evaluation(x, objective_function)\n",
    "\n",
    "    ################################################################\n",
    "\n",
    "    # Find the best individual and append to a list to keep track in each generation\n",
    "    idx = np.argmax(f)  # Assuming higher fitness is better\n",
    "    x_best = [x[idx]]\n",
    "    f_best = [f[idx]]\n",
    "\n",
    "    generation = 0\n",
    "    # Loop over the generations\n",
    "    while generation < max_generations - 1:\n",
    "        # print(f'generation: {generation}')\n",
    "\n",
    "        # Perform the EA steps\n",
    "        ################################################################\n",
    "        # Select parents\n",
    "        x_parents, f_parents = parent_selection(x, f)\n",
    "        # Perform crossover to create offspring\n",
    "        x_offspring = crossover(x_parents, p_crossover)\n",
    "        # Apply mutation to offspring\n",
    "        x_offspring_mutated = mutation(x_offspring, m_rate)\n",
    "        # Evaluate offspring\n",
    "        f_offspring_mutated = evaluation(x_offspring_mutated, objective_function)\n",
    "        # Select next generation\n",
    "        x, f = survivor_selection(x, f, x_offspring_mutated, f_offspring_mutated)\n",
    "        generation += 1\n",
    "        ################################################################\n",
    "\n",
    "        idx = np.argmax(f)\n",
    "        xi_best = x[idx]\n",
    "        fi_best = f[idx]\n",
    "        if fi_best > f_best[-1]:\n",
    "            x_best.append(xi_best)\n",
    "            f_best.append(fi_best)\n",
    "        else:\n",
    "            x_best.append(x_best[-1])\n",
    "            f_best.append(f_best[-1])\n",
    "\n",
    "\n",
    "\n",
    "    return x_best, f_best\n",
    "\n"
   ]
  },
  {
   "cell_type": "code",
   "execution_count": 1,
   "id": "gcbTrCkhb9YV",
   "metadata": {
    "id": "gcbTrCkhb9YV"
   },
   "outputs": [],
   "source": [
    "#################Testing###################\n",
    "# population = initialization(32, inp, hid, out)\n",
    "# individual = population[4]\n",
    "# observation, info = env.reset(seed = 0)\n",
    "# print(type(torch.tensor(observation)))\n",
    "# cartpole(individual)"
   ]
  },
  {
   "cell_type": "code",
   "execution_count": 2,
   "id": "cO98Ib4eggk3",
   "metadata": {
    "id": "cO98Ib4eggk3"
   },
   "outputs": [],
   "source": [
    "##################Testing###################\n",
    "# fitness = []\n",
    "# for x in range(len(population)):\n",
    "#   individual = population[x]\n",
    "#   fitness.append(cartpole(individual))\n",
    "\n",
    "#   # print(cartpole(individual))\n",
    "# fitness = np.array(fitness)\n",
    "# survivor_selection(population, fitness, population, fitness)"
   ]
  },
  {
   "cell_type": "markdown",
   "id": "61c71a2d",
   "metadata": {
    "id": "61c71a2d"
   },
   "source": [
    "#### Check Your Implementation: Running The Evolutionary Algorithm\n",
    "\n",
    "Run the cell below, if you implemented everything correctly, you should see the algorithm running. Furthermore,"
   ]
  },
  {
   "cell_type": "code",
   "execution_count": 8,
   "id": "1266f3a3",
   "metadata": {
    "colab": {
     "base_uri": "https://localhost:8080/"
    },
    "id": "1266f3a3",
    "outputId": "fd733511-4cb3-4926-a693-f1dbf6f6a2ee"
   },
   "outputs": [
    {
     "name": "stdout",
     "output_type": "stream",
     "text": [
      "Best ANN parameters found: [-0.01664058  0.59830747 -0.10346571  0.76495645 -0.36556768 -0.31547366\n",
      " -0.95064917 -0.32625606 -0.4745079   0.14712676 -0.71006551  0.12886137\n",
      " -0.69553358 -0.18188507  0.54976439  0.37630823  0.93661715 -0.89904788\n",
      " -0.81034735 -0.12400368 -0.30127662 -0.97398679  0.78351867 -0.65864278\n",
      " -0.78525321 -0.03427458 -0.43643222 -0.69800293 -0.44506809 -0.74642523\n",
      " -0.46251174  0.28308212  0.33354209 -0.84765264 -0.25964384 -0.26872976\n",
      "  0.468258   -0.97516919  0.12489756 -0.52642865 -0.4734115   0.5123729\n",
      "  0.10074759  0.10120348]\n",
      "Best fitnes found: 1000.0\n",
      "Moviepy - Building video /content/content/video/cartpole/cartpole-episode-0.mp4.\n",
      "Moviepy - Writing video /content/content/video/cartpole/cartpole-episode-0.mp4\n",
      "\n"
     ]
    },
    {
     "name": "stderr",
     "output_type": "stream",
     "text": [
      "                                                  "
     ]
    },
    {
     "name": "stdout",
     "output_type": "stream",
     "text": [
      "Moviepy - Done !\n",
      "Moviepy - video ready /content/content/video/cartpole/cartpole-episode-0.mp4\n"
     ]
    },
    {
     "name": "stderr",
     "output_type": "stream",
     "text": [
      "\r"
     ]
    },
    {
     "name": "stdout",
     "output_type": "stream",
     "text": [
      "Moviepy - Building video /content/content/video/cartpole/cartpole-episode-0.mp4.\n",
      "Moviepy - Writing video /content/content/video/cartpole/cartpole-episode-0.mp4\n",
      "\n"
     ]
    },
    {
     "name": "stderr",
     "output_type": "stream",
     "text": []
    },
    {
     "name": "stdout",
     "output_type": "stream",
     "text": [
      "Moviepy - Done !\n",
      "Moviepy - video ready /content/content/video/cartpole/cartpole-episode-0.mp4\n"
     ]
    }
   ],
   "source": [
    "# Dummy parameters, please add or remove based on your implementation\n",
    "kwargs = {\n",
    "    \"population_size\": 100,\n",
    "    \"max_fit_evals\": 2000,  # maximum number of fitness evaluations\n",
    "    \"p_crossover\": 0.9,  # crossover probability\n",
    "    \"m_rate\": 0.1,  # mutation rate\n",
    "    \"objective_function\": cartpole,\n",
    "}\n",
    "# Run your algorithm once and find the best ANN weigths found\n",
    "env = gym.make(\"CartPole-v1\")\n",
    "x_best, f_best = ea(**kwargs)\n",
    "\n",
    "\n",
    "# Print the best ANN weigths found and best fitness\n",
    "print(\"Best ANN parameters found:\",x_best[-1])\n",
    "print(\"Best fitnes found:\",f_best[-1])\n",
    "\n",
    "\n",
    "# Evaluate your ANN weights again and record the video\n",
    "if f_best[-1] >= 1000:\n",
    "  cartpole_record_video(x_best[-1] )\n",
    "else:\n",
    "  print(\"The best fitness 1000 was not found, try again!!\")"
   ]
  },
  {
   "cell_type": "markdown",
   "id": "XhHV4wTRo53p",
   "metadata": {
    "id": "XhHV4wTRo53p"
   },
   "source": [
    "---\n",
    "**Question 3 (0-0.25-0.5 pt):** Please comment on the behavior of the final solution. Were you able to find the best solution (i.e. ANN weights which achieves best fitness: 1000) and was it possible to controll the CartPole task without letting the the pole fall?\n",
    "\n",
    "**Answer:** I was able to find the best solution with a fitness of 1000 reliably. The cart moved from side to side in some simulations and in others it remained almost completely in the center. The pole did not fall in any of the simulations I ran."
   ]
  },
  {
   "cell_type": "markdown",
   "id": "73ddbb30",
   "metadata": {
    "id": "73ddbb30"
   },
   "source": [
    "**Average results of your algorithm**\n",
    "\n",
    "Remember that the EAs are sthocastic algorithms that can produce different results as a result of independent runs.\n",
    "\n",
    "Therefore, we would like to see the average results and standard deviations.\n"
   ]
  },
  {
   "cell_type": "markdown",
   "id": "ogLrFqM4p1FP",
   "metadata": {
    "id": "ogLrFqM4p1FP"
   },
   "source": [
    "---\n",
    "**Task 2 (0-1.5-3 pt):** Please run your algorithm for at least 10 times and plot the average results and standard deviations. Below, you may add as many cells as you need for this implementation and plot functions. You may use previous code you have developed/used during the course."
   ]
  },
  {
   "cell_type": "code",
   "execution_count": 177,
   "id": "blplyjv7tOs7",
   "metadata": {
    "id": "blplyjv7tOs7"
   },
   "outputs": [],
   "source": [
    "def calculate_mean_std(f_best):\n",
    "    \"\"\"This is a helper function to calculate the mean and standard deviation of the best fitness values.\"\"\"\n",
    "    f_best = np.array(f_best)\n",
    "    avg = np.mean(f_best, axis=0)\n",
    "    std = np.std(f_best, axis=0)\n",
    "    return avg, std"
   ]
  },
  {
   "cell_type": "code",
   "execution_count": 334,
   "id": "C8HjIT1htPSo",
   "metadata": {
    "id": "C8HjIT1htPSo"
   },
   "outputs": [],
   "source": [
    "def run_experiment(population_size, p_crossover, m_rate):\n",
    "    runs = 10  # Number of runs\n",
    "    max_fit_evals = 2000  # Maximum number of fitness evaluations\n",
    "\n",
    "    all_results = []\n",
    "\n",
    "    for i in range(runs):\n",
    "        # Run EA\n",
    "        print(f'run: {i}')\n",
    "        x_best, f_best = ea(\n",
    "            population_size,\n",
    "            max_fit_evals,\n",
    "            p_crossover,\n",
    "            m_rate,\n",
    "            cartpole,\n",
    "        )\n",
    "        print(f'best fitness:{f_best}')\n",
    "        # Store the best fitness values of each run\n",
    "        all_results.append(f_best)\n",
    "\n",
    "    # Calculate mean and std of the runs\n",
    "    avg_fitness, std_fitness = calculate_mean_std(all_results)\n",
    "\n",
    "    return avg_fitness, std_fitness, all_results"
   ]
  },
  {
   "cell_type": "code",
   "execution_count": 288,
   "id": "Krm7RLewu2K1",
   "metadata": {
    "id": "Krm7RLewu2K1"
   },
   "outputs": [],
   "source": [
    "def generate_subplot_function(avgs_experiment, stds_experiment):\n",
    "    \"\"\"Generate subplots for the experiments.\"\"\"\n",
    "    fig, ax = plt.subplots(figsize=(10, 6))\n",
    "\n",
    "    # Plot average fitness values\n",
    "    ax.plot(avgs_experiment, label=\"Average Fitness\", color=\"blue\")\n",
    "\n",
    "    # Fill the area between the upper and lower bounds of standard deviation\n",
    "    ax.fill_between(\n",
    "        range(len(avgs_experiment)),\n",
    "        avgs_experiment - stds_experiment,\n",
    "        avgs_experiment + stds_experiment,\n",
    "        alpha=0.2,\n",
    "        color=\"blue\"\n",
    "    )\n",
    "\n",
    "    # Set labels and title\n",
    "    ax.set_xlabel(\"Generations\")\n",
    "    ax.set_ylabel(\"Average Fitness\")\n",
    "    ax.legend()\n",
    "    ax.grid(True)\n",
    "\n",
    "    plt.show()"
   ]
  },
  {
   "cell_type": "code",
   "execution_count": 297,
   "id": "QXvs-rF3w5Ht",
   "metadata": {
    "id": "QXvs-rF3w5Ht"
   },
   "outputs": [],
   "source": [
    "population_size = 100\n",
    "m_rate = 0.1\n",
    "p_crossover = 0.9"
   ]
  },
  {
   "cell_type": "code",
   "execution_count": 335,
   "id": "OI7PP6p6T2NK",
   "metadata": {
    "colab": {
     "base_uri": "https://localhost:8080/",
     "height": 1000
    },
    "id": "OI7PP6p6T2NK",
    "outputId": "e9f44d7e-3049-4c05-ed36-c216ad7522e2"
   },
   "outputs": [
    {
     "name": "stdout",
     "output_type": "stream",
     "text": [
      "run: 0\n",
      "best fitness:[1000.0, 1000.0, 1000.0, 1000.0, 1000.0, 1000.0, 1000.0, 1000.0, 1000.0, 1000.0, 1000.0, 1000.0, 1000.0, 1000.0, 1000.0, 1000.0, 1000.0, 1000.0, 1000.0, 1000.0]\n",
      "run: 1\n",
      "best fitness:[56.0, 181.0, 181.0, 181.0, 181.0, 509.0, 509.0, 509.0, 509.0, 509.0, 567.0, 567.0, 567.0, 567.0, 660.0, 1000.0, 1000.0, 1000.0, 1000.0, 1000.0]\n",
      "run: 2\n",
      "best fitness:[91.0, 91.0, 117.0, 117.0, 117.0, 158.0, 213.0, 213.0, 241.0, 306.0, 306.0, 306.0, 1000.0, 1000.0, 1000.0, 1000.0, 1000.0, 1000.0, 1000.0, 1000.0]\n",
      "run: 3\n",
      "best fitness:[69.0, 201.0, 201.0, 201.0, 305.0, 305.0, 305.0, 1000.0, 1000.0, 1000.0, 1000.0, 1000.0, 1000.0, 1000.0, 1000.0, 1000.0, 1000.0, 1000.0, 1000.0, 1000.0]\n",
      "run: 4\n",
      "best fitness:[105.0, 105.0, 105.0, 105.0, 118.0, 118.0, 170.0, 170.0, 311.0, 311.0, 316.0, 1000.0, 1000.0, 1000.0, 1000.0, 1000.0, 1000.0, 1000.0, 1000.0, 1000.0]\n",
      "run: 5\n",
      "best fitness:[94.0, 359.0, 359.0, 359.0, 359.0, 359.0, 359.0, 632.0, 642.0, 642.0, 666.0, 666.0, 792.0, 1000.0, 1000.0, 1000.0, 1000.0, 1000.0, 1000.0, 1000.0]\n",
      "run: 6\n",
      "best fitness:[63.0, 279.0, 279.0, 280.0, 1000.0, 1000.0, 1000.0, 1000.0, 1000.0, 1000.0, 1000.0, 1000.0, 1000.0, 1000.0, 1000.0, 1000.0, 1000.0, 1000.0, 1000.0, 1000.0]\n",
      "run: 7\n",
      "best fitness:[109.0, 190.0, 190.0, 573.0, 573.0, 573.0, 573.0, 573.0, 573.0, 600.0, 600.0, 600.0, 1000.0, 1000.0, 1000.0, 1000.0, 1000.0, 1000.0, 1000.0, 1000.0]\n",
      "run: 8\n",
      "best fitness:[60.0, 197.0, 197.0, 197.0, 197.0, 199.0, 236.0, 241.0, 624.0, 647.0, 1000.0, 1000.0, 1000.0, 1000.0, 1000.0, 1000.0, 1000.0, 1000.0, 1000.0, 1000.0]\n",
      "run: 9\n",
      "best fitness:[93.0, 93.0, 93.0, 659.0, 659.0, 659.0, 659.0, 659.0, 659.0, 659.0, 659.0, 659.0, 1000.0, 1000.0, 1000.0, 1000.0, 1000.0, 1000.0, 1000.0, 1000.0]\n"
     ]
    },
    {
     "data": {
      "image/png": "[encoded data removed]",
      "text/plain": [
       "<Figure size 1000x600 with 1 Axes>"
      ]
     },
     "metadata": {},
     "output_type": "display_data"
    },
    {
     "data": {
      "text/plain": [
       "(array([ 174. ,  269.6,  272.2,  367.2,  450.9,  488. ,  502.4,  599.7,\n",
       "         655.9,  667.4,  711.4,  779.8,  935.9,  956.7,  966. , 1000. ,\n",
       "        1000. , 1000. , 1000. , 1000. ]),\n",
       " array([275.93078842, 256.10669652, 254.4066823 , 275.35751306,\n",
       "        324.12819995, 306.69952722, 291.46258765, 309.36452609,\n",
       "        259.99709614, 249.0510791 , 263.04341847, 239.18227359,\n",
       "        137.71888033, 129.9       , 102.        ,   0.        ,\n",
       "          0.        ,   0.        ,   0.        ,   0.        ]))"
      ]
     },
     "execution_count": 335,
     "metadata": {},
     "output_type": "execute_result"
    }
   ],
   "source": [
    "avg_fitness, std_fitness, _ = run_experiment(population_size, p_crossover, m_rate)\n",
    "generate_subplot_function(avg_fitness, std_fitness)\n",
    "avg_fitness, std_fitness\n"
   ]
  },
  {
   "cell_type": "markdown",
   "id": "hAyp-arbqChy",
   "metadata": {
    "id": "hAyp-arbqChy"
   },
   "source": [
    "---\n",
    "**Question 4 (0-0.25-0.5 pt):** Please comment on the average behavior of your algorithm. How did the average results and standard deviations look? Did your algorithm converge all the time to the best fitness?\n",
    "\n",
    "**Answer:** The average fitness after 15 generations is 1000. This means that every run the algorithm succesfully converges to the target fitness before the simulation ends. The standard deviation remained between 250 - 300 throughout the first generations, but eventually began to narrow down after 12 generations."
   ]
  }
 ],
 "metadata": {
  "colab": {
   "provenance": []
  },
  "jupytext": {
   "formats": "ipynb,md,py:light"
  },
  "kernelspec": {
   "display_name": "Python 3 (ipykernel)",
   "language": "python",
   "name": "python3"
  },
  "language_info": {
   "codemirror_mode": {
    "name": "ipython",
    "version": 3
   },
   "file_extension": ".py",
   "mimetype": "text/x-python",
   "name": "python",
   "nbconvert_exporter": "python",
   "pygments_lexer": "ipython3",
   "version": "3.10.0"
  },
  "toc": {
   "base_numbering": 1
  }
 },
 "nbformat": 4,
 "nbformat_minor": 5
}
